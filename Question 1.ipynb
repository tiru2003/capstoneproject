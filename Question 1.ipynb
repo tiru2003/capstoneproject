{
 "cells": [
  {
   "cell_type": "code",
   "execution_count": 1,
   "metadata": {},
   "outputs": [],
   "source": [
    "#Step 1 - Importing all required libraries"
   ]
  },
  {
   "cell_type": "code",
   "execution_count": 2,
   "metadata": {},
   "outputs": [],
   "source": [
    "%matplotlib inline\n",
    "import pandas as pd\n",
    "import numpy as np\n",
    "import seaborn as sns\n",
    "import matplotlib as mpl\n",
    "import matplotlib.pyplot as plt"
   ]
  },
  {
   "cell_type": "code",
   "execution_count": 3,
   "metadata": {},
   "outputs": [],
   "source": [
    "#Step 2 - Creating a pandas dataframe named \"df_311nyc\" from the data available in csv format "
   ]
  },
  {
   "cell_type": "code",
   "execution_count": 4,
   "metadata": {},
   "outputs": [
    {
     "data": {
      "text/html": [
       "<div>\n",
       "<style scoped>\n",
       "    .dataframe tbody tr th:only-of-type {\n",
       "        vertical-align: middle;\n",
       "    }\n",
       "\n",
       "    .dataframe tbody tr th {\n",
       "        vertical-align: top;\n",
       "    }\n",
       "\n",
       "    .dataframe thead th {\n",
       "        text-align: right;\n",
       "    }\n",
       "</style>\n",
       "<table border=\"1\" class=\"dataframe\">\n",
       "  <thead>\n",
       "    <tr style=\"text-align: right;\">\n",
       "      <th></th>\n",
       "      <th>created_date</th>\n",
       "      <th>unique_key</th>\n",
       "      <th>complaint_type</th>\n",
       "      <th>incident_zip</th>\n",
       "      <th>incident_address</th>\n",
       "      <th>street_name</th>\n",
       "      <th>address_type</th>\n",
       "      <th>city</th>\n",
       "      <th>resolution_description</th>\n",
       "      <th>borough</th>\n",
       "      <th>latitude</th>\n",
       "      <th>longitude</th>\n",
       "      <th>closed_date</th>\n",
       "      <th>location_type</th>\n",
       "      <th>status</th>\n",
       "    </tr>\n",
       "  </thead>\n",
       "  <tbody>\n",
       "    <tr>\n",
       "      <th>0</th>\n",
       "      <td>2019-09-01 17:14:28</td>\n",
       "      <td>43695466</td>\n",
       "      <td>UNSANITARY CONDITION</td>\n",
       "      <td>11368.0</td>\n",
       "      <td>97-05 HORACE HARDING EXPRESSWAY</td>\n",
       "      <td>HORACE HARDING EXPRESSWAY</td>\n",
       "      <td>ADDRESS</td>\n",
       "      <td>Corona</td>\n",
       "      <td>The following complaint conditions are still o...</td>\n",
       "      <td>QUEENS</td>\n",
       "      <td>40.734899</td>\n",
       "      <td>-73.862526</td>\n",
       "      <td>NaN</td>\n",
       "      <td>RESIDENTIAL BUILDING</td>\n",
       "      <td>Open</td>\n",
       "    </tr>\n",
       "    <tr>\n",
       "      <th>1</th>\n",
       "      <td>2019-09-01 14:31:35</td>\n",
       "      <td>43697294</td>\n",
       "      <td>GENERAL</td>\n",
       "      <td>11233.0</td>\n",
       "      <td>110 ROCHESTER AVENUE</td>\n",
       "      <td>ROCHESTER AVENUE</td>\n",
       "      <td>ADDRESS</td>\n",
       "      <td>BROOKLYN</td>\n",
       "      <td>The complaint you filed is a duplicate of a co...</td>\n",
       "      <td>BROOKLYN</td>\n",
       "      <td>40.675350</td>\n",
       "      <td>-73.927728</td>\n",
       "      <td>NaN</td>\n",
       "      <td>RESIDENTIAL BUILDING</td>\n",
       "      <td>Open</td>\n",
       "    </tr>\n",
       "    <tr>\n",
       "      <th>2</th>\n",
       "      <td>2019-09-01 20:28:51</td>\n",
       "      <td>43701077</td>\n",
       "      <td>HEAT/HOT WATER</td>\n",
       "      <td>11225.0</td>\n",
       "      <td>271 HAWTHORNE STREET</td>\n",
       "      <td>HAWTHORNE STREET</td>\n",
       "      <td>ADDRESS</td>\n",
       "      <td>BROOKLYN</td>\n",
       "      <td>The complaint you filed is a duplicate of a co...</td>\n",
       "      <td>BROOKLYN</td>\n",
       "      <td>40.657774</td>\n",
       "      <td>-73.951466</td>\n",
       "      <td>NaN</td>\n",
       "      <td>RESIDENTIAL BUILDING</td>\n",
       "      <td>Open</td>\n",
       "    </tr>\n",
       "    <tr>\n",
       "      <th>3</th>\n",
       "      <td>2019-09-01 11:54:18</td>\n",
       "      <td>43697359</td>\n",
       "      <td>WATER LEAK</td>\n",
       "      <td>10467.0</td>\n",
       "      <td>2714 WALLACE AVENUE</td>\n",
       "      <td>WALLACE AVENUE</td>\n",
       "      <td>ADDRESS</td>\n",
       "      <td>BRONX</td>\n",
       "      <td>The following complaint conditions are still o...</td>\n",
       "      <td>BRONX</td>\n",
       "      <td>40.865959</td>\n",
       "      <td>-73.864435</td>\n",
       "      <td>NaN</td>\n",
       "      <td>RESIDENTIAL BUILDING</td>\n",
       "      <td>Open</td>\n",
       "    </tr>\n",
       "    <tr>\n",
       "      <th>4</th>\n",
       "      <td>2019-09-01 14:53:00</td>\n",
       "      <td>43694530</td>\n",
       "      <td>HEAT/HOT WATER</td>\n",
       "      <td>11225.0</td>\n",
       "      <td>271 HAWTHORNE STREET</td>\n",
       "      <td>HAWTHORNE STREET</td>\n",
       "      <td>ADDRESS</td>\n",
       "      <td>BROOKLYN</td>\n",
       "      <td>The following complaint conditions are still o...</td>\n",
       "      <td>BROOKLYN</td>\n",
       "      <td>40.657774</td>\n",
       "      <td>-73.951466</td>\n",
       "      <td>NaN</td>\n",
       "      <td>RESIDENTIAL BUILDING</td>\n",
       "      <td>Open</td>\n",
       "    </tr>\n",
       "  </tbody>\n",
       "</table>\n",
       "</div>"
      ],
      "text/plain": [
       "         created_date  unique_key        complaint_type  incident_zip  \\\n",
       "0 2019-09-01 17:14:28    43695466  UNSANITARY CONDITION       11368.0   \n",
       "1 2019-09-01 14:31:35    43697294               GENERAL       11233.0   \n",
       "2 2019-09-01 20:28:51    43701077        HEAT/HOT WATER       11225.0   \n",
       "3 2019-09-01 11:54:18    43697359            WATER LEAK       10467.0   \n",
       "4 2019-09-01 14:53:00    43694530        HEAT/HOT WATER       11225.0   \n",
       "\n",
       "                  incident_address                street_name address_type  \\\n",
       "0  97-05 HORACE HARDING EXPRESSWAY  HORACE HARDING EXPRESSWAY      ADDRESS   \n",
       "1             110 ROCHESTER AVENUE           ROCHESTER AVENUE      ADDRESS   \n",
       "2             271 HAWTHORNE STREET           HAWTHORNE STREET      ADDRESS   \n",
       "3              2714 WALLACE AVENUE             WALLACE AVENUE      ADDRESS   \n",
       "4             271 HAWTHORNE STREET           HAWTHORNE STREET      ADDRESS   \n",
       "\n",
       "       city                             resolution_description   borough  \\\n",
       "0    Corona  The following complaint conditions are still o...    QUEENS   \n",
       "1  BROOKLYN  The complaint you filed is a duplicate of a co...  BROOKLYN   \n",
       "2  BROOKLYN  The complaint you filed is a duplicate of a co...  BROOKLYN   \n",
       "3     BRONX  The following complaint conditions are still o...     BRONX   \n",
       "4  BROOKLYN  The following complaint conditions are still o...  BROOKLYN   \n",
       "\n",
       "    latitude  longitude closed_date         location_type status  \n",
       "0  40.734899 -73.862526         NaN  RESIDENTIAL BUILDING   Open  \n",
       "1  40.675350 -73.927728         NaN  RESIDENTIAL BUILDING   Open  \n",
       "2  40.657774 -73.951466         NaN  RESIDENTIAL BUILDING   Open  \n",
       "3  40.865959 -73.864435         NaN  RESIDENTIAL BUILDING   Open  \n",
       "4  40.657774 -73.951466         NaN  RESIDENTIAL BUILDING   Open  "
      ]
     },
     "execution_count": 4,
     "metadata": {},
     "output_type": "execute_result"
    }
   ],
   "source": [
    "import types\n",
    "import pandas as pd\n",
    "from botocore.client import Config\n",
    "import ibm_boto3\n",
    "\n",
    "def __iter__(self): return 0\n",
    "\n",
    "# @hidden_cell\n",
    "# The following code accesses a file in your IBM Cloud Object Storage. It includes your credentials.\n",
    "# You might want to remove those credentials before you share the notebook.\n",
    "client_51a3837687ca424c88d81a9214afdc84 = ibm_boto3.client(service_name='s3',\n",
    "    ibm_api_key_id='<replace_with_your_ibm_api_key_id>',\n",
    "    ibm_auth_endpoint=\"https://iam.ng.bluemix.net/oidc/token\",\n",
    "    config=Config(signature_version='oauth'),\n",
    "    endpoint_url='https://s3-api.us-geo.objectstorage.service.networklayer.com')\n",
    "\n",
    "body = client_51a3837687ca424c88d81a9214afdc84.get_object(Bucket='<replace_with_your_bucket_id>',Key='fhrw-4uyv.csv')['Body']\n",
    "# add missing __iter__ method, so pandas accepts body as file-like object\n",
    "if not hasattr(body, \"__iter__\"): body.__iter__ = types.MethodType( __iter__, body )\n",
    "\n",
    "df_311nyc = pd.read_csv(body, parse_dates = ['created_date'])\n",
    "df_311nyc.head()\n"
   ]
  },
  {
   "cell_type": "code",
   "execution_count": 5,
   "metadata": {},
   "outputs": [],
   "source": [
    "#Step 3 - Analyzing the size of data using \"shape\" function"
   ]
  },
  {
   "cell_type": "code",
   "execution_count": 6,
   "metadata": {},
   "outputs": [
    {
     "data": {
      "text/plain": [
       "(5850244, 15)"
      ]
     },
     "execution_count": 6,
     "metadata": {},
     "output_type": "execute_result"
    }
   ],
   "source": [
    "df_311nyc.shape"
   ]
  },
  {
   "cell_type": "code",
   "execution_count": 7,
   "metadata": {},
   "outputs": [],
   "source": [
    "#Step 4 - Analyzing the kind of data (column headers) using \"columns\" function"
   ]
  },
  {
   "cell_type": "code",
   "execution_count": 8,
   "metadata": {},
   "outputs": [
    {
     "data": {
      "text/plain": [
       "Index(['created_date', 'unique_key', 'complaint_type', 'incident_zip',\n",
       "       'incident_address', 'street_name', 'address_type', 'city',\n",
       "       'resolution_description', 'borough', 'latitude', 'longitude',\n",
       "       'closed_date', 'location_type', 'status'],\n",
       "      dtype='object')"
      ]
     },
     "execution_count": 8,
     "metadata": {},
     "output_type": "execute_result"
    }
   ],
   "source": [
    "df_311nyc.columns"
   ]
  },
  {
   "cell_type": "code",
   "execution_count": 9,
   "metadata": {},
   "outputs": [],
   "source": [
    "#Step 5 - Analyzing the type of data (column datatypes) using \"dtypes\" function"
   ]
  },
  {
   "cell_type": "code",
   "execution_count": 10,
   "metadata": {},
   "outputs": [
    {
     "data": {
      "text/plain": [
       "created_date              datetime64[ns]\n",
       "unique_key                         int64\n",
       "complaint_type                    object\n",
       "incident_zip                     float64\n",
       "incident_address                  object\n",
       "street_name                       object\n",
       "address_type                      object\n",
       "city                              object\n",
       "resolution_description            object\n",
       "borough                           object\n",
       "latitude                         float64\n",
       "longitude                        float64\n",
       "closed_date                       object\n",
       "location_type                     object\n",
       "status                            object\n",
       "dtype: object"
      ]
     },
     "execution_count": 10,
     "metadata": {},
     "output_type": "execute_result"
    }
   ],
   "source": [
    "df_311nyc.dtypes"
   ]
  },
  {
   "cell_type": "code",
   "execution_count": 11,
   "metadata": {},
   "outputs": [],
   "source": [
    "#Step 6 - To identify the top complaint type, considering column named \"complaint_type\" and checking different types of complaints using \"unique\" function"
   ]
  },
  {
   "cell_type": "code",
   "execution_count": 12,
   "metadata": {},
   "outputs": [
    {
     "data": {
      "text/plain": [
       "array(['UNSANITARY CONDITION', 'GENERAL', 'HEAT/HOT WATER', 'WATER LEAK',\n",
       "       'PLUMBING', 'ELECTRIC', 'SAFETY', 'DOOR/WINDOW', 'PAINT/PLASTER',\n",
       "       'FLOORING/STAIRS', 'ELEVATOR', 'APPLIANCE', 'General',\n",
       "       'Unsanitary Condition', 'OUTSIDE BUILDING', 'Safety', 'Appliance',\n",
       "       'Mold', 'Plumbing', 'HPD Literature Request', 'PAINT - PLASTER',\n",
       "       'HEATING', 'GENERAL CONSTRUCTION', 'Outside Building', 'NONCONST',\n",
       "       'CONSTRUCTION', 'AGENCY', 'STRUCTURAL', 'VACANT APARTMENT'],\n",
       "      dtype=object)"
      ]
     },
     "execution_count": 12,
     "metadata": {},
     "output_type": "execute_result"
    }
   ],
   "source": [
    "df_311nyc['complaint_type'].unique()"
   ]
  },
  {
   "cell_type": "code",
   "execution_count": 13,
   "metadata": {},
   "outputs": [],
   "source": [
    "#Step 7 - Checking if the column \"complaint_type\" contains any null or missing values"
   ]
  },
  {
   "cell_type": "code",
   "execution_count": 14,
   "metadata": {},
   "outputs": [
    {
     "data": {
      "text/plain": [
       "0"
      ]
     },
     "execution_count": 14,
     "metadata": {},
     "output_type": "execute_result"
    }
   ],
   "source": [
    "df_311nyc['complaint_type'].isnull().sum()"
   ]
  },
  {
   "cell_type": "code",
   "execution_count": 15,
   "metadata": {},
   "outputs": [],
   "source": [
    "#Step 8 - Calculating the total frequency (occurance) of each complaint type using \"value_counts()\" function"
   ]
  },
  {
   "cell_type": "code",
   "execution_count": 16,
   "metadata": {},
   "outputs": [
    {
     "data": {
      "text/plain": [
       "HEAT/HOT WATER            1150569\n",
       "HEATING                    887869\n",
       "PLUMBING                   702389\n",
       "GENERAL CONSTRUCTION       500863\n",
       "UNSANITARY CONDITION       435768\n",
       "PAINT - PLASTER            361258\n",
       "PAINT/PLASTER              340979\n",
       "ELECTRIC                   303314\n",
       "NONCONST                   260890\n",
       "DOOR/WINDOW                199690\n",
       "WATER LEAK                 187264\n",
       "GENERAL                    146066\n",
       "FLOORING/STAIRS            135257\n",
       "APPLIANCE                  109605\n",
       "HPD Literature Request      52830\n",
       "SAFETY                      49975\n",
       "OUTSIDE BUILDING             7018\n",
       "ELEVATOR                     6421\n",
       "Unsanitary Condition         5499\n",
       "CONSTRUCTION                 5078\n",
       "General                      1163\n",
       "Safety                        424\n",
       "STRUCTURAL                     16\n",
       "Plumbing                       11\n",
       "AGENCY                          9\n",
       "VACANT APARTMENT                8\n",
       "Outside Building                6\n",
       "Appliance                       4\n",
       "Mold                            1\n",
       "Name: complaint_type, dtype: int64"
      ]
     },
     "execution_count": 16,
     "metadata": {},
     "output_type": "execute_result"
    }
   ],
   "source": [
    "df_311nyc['complaint_type'].value_counts()"
   ]
  },
  {
   "cell_type": "code",
   "execution_count": 17,
   "metadata": {},
   "outputs": [],
   "source": [
    "#Preliminary Conclusion - From the results above, we can see that the top 2 complaints - 1) HEAT/HOT WATER and 2) HEATING (of similar nature) have highest number of occurance among others"
   ]
  },
  {
   "cell_type": "code",
   "execution_count": 18,
   "metadata": {},
   "outputs": [],
   "source": [
    "#Step 9 - Plotting a bar chart for graphical analysis and support our conclusion"
   ]
  },
  {
   "cell_type": "code",
   "execution_count": 19,
   "metadata": {},
   "outputs": [
    {
     "data": {
      "image/png": "[encoded data removed]",
      "text/plain": [
       "<Figure size 1008x1008 with 1 Axes>"
      ]
     },
     "metadata": {
      "needs_background": "light"
     },
     "output_type": "display_data"
    }
   ],
   "source": [
    "df_311nyc_complaint = df_311nyc['complaint_type'].value_counts()\n",
    "df_311nyc_complaint.sort_values(ascending = True, inplace =True)\n",
    "Total_complaint = df_311nyc_complaint.sum()\n",
    "\n",
    "# Create the barh plot\n",
    "df_311nyc_complaint.plot(kind = 'barh', figsize = (14,14), color=sns.color_palette(\"coolwarm\", len(df_311nyc_complaint)))\n",
    "plt.title('Total Complaints')\n",
    "\n",
    "# Calculating percentage for total number of complaints per type\n",
    "for index, value in enumerate(df_311nyc_complaint):\n",
    "    label =  '{}%'.format(round((value/Total_complaint)*100, 2)) \n",
    "    plt.annotate(label, xy=(value, index-0.1), color='red')\n",
    "    \n",
    "plt.show()"
   ]
  },
  {
   "cell_type": "code",
   "execution_count": 20,
   "metadata": {},
   "outputs": [],
   "source": [
    "#Final Conclusion: The top 2 complaints i.e. HEAT/HOT WATER & HEATING (of similar nature) approximately accounts for around 35% (highest) of total complaints made. Hence, in my opinion, the Department of Housing Preservation and Development should focus on these complaints first."
   ]
  },
  {
   "cell_type": "code",
   "execution_count": null,
   "metadata": {},
   "outputs": [],
   "source": []
  }
 ],
 "metadata": {
  "kernelspec": {
   "display_name": "Python 3.6",
   "language": "python",
   "name": "python3"
  },
  "language_info": {
   "codemirror_mode": {
    "name": "ipython",
    "version": 3
   },
   "file_extension": ".py",
   "mimetype": "text/x-python",
   "name": "python",
   "nbconvert_exporter": "python",
   "pygments_lexer": "ipython3",
   "version": "3.6.8"
  }
 },
 "nbformat": 4,
 "nbformat_minor": 1
}
