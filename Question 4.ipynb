{
 "cells": [
  {
   "cell_type": "code",
   "execution_count": 1,
   "metadata": {},
   "outputs": [
    {
     "data": {
      "text/plain": [
       "'Creating a model using Simple Linear Regression algorithm to predict \"The number of future complaints\" (of the top complaint type)'"
      ]
     },
     "execution_count": 1,
     "metadata": {},
     "output_type": "execute_result"
    }
   ],
   "source": [
    "\"\"\"Creating a model using Simple Linear Regression algorithm to predict \"The number of future complaints\" (of the top complaint type)\"\"\""
   ]
  },
  {
   "cell_type": "code",
   "execution_count": 2,
   "metadata": {},
   "outputs": [],
   "source": [
    "#Step 1 - Importing all required libraries"
   ]
  },
  {
   "cell_type": "code",
   "execution_count": 3,
   "metadata": {},
   "outputs": [],
   "source": [
    "%matplotlib inline\n",
    "import pandas as pd\n",
    "import numpy as np\n",
    "import matplotlib as mpl\n",
    "import matplotlib.pyplot as plt\n",
    "import seaborn as sns"
   ]
  },
  {
   "cell_type": "code",
   "execution_count": 4,
   "metadata": {},
   "outputs": [],
   "source": [
    "#Step 2 - Creating a pandas dataframe \"df_311nyc_model_1\" with only 2 columns from the data available in csv format"
   ]
  },
  {
   "cell_type": "code",
   "execution_count": 5,
   "metadata": {},
   "outputs": [
    {
     "data": {
      "text/html": [
       "<div>\n",
       "<style scoped>\n",
       "    .dataframe tbody tr th:only-of-type {\n",
       "        vertical-align: middle;\n",
       "    }\n",
       "\n",
       "    .dataframe tbody tr th {\n",
       "        vertical-align: top;\n",
       "    }\n",
       "\n",
       "    .dataframe thead th {\n",
       "        text-align: right;\n",
       "    }\n",
       "</style>\n",
       "<table border=\"1\" class=\"dataframe\">\n",
       "  <thead>\n",
       "    <tr style=\"text-align: right;\">\n",
       "      <th></th>\n",
       "      <th>created_date</th>\n",
       "      <th>complaint_type</th>\n",
       "    </tr>\n",
       "  </thead>\n",
       "  <tbody>\n",
       "    <tr>\n",
       "      <th>0</th>\n",
       "      <td>2019-09-01 17:14:28</td>\n",
       "      <td>UNSANITARY CONDITION</td>\n",
       "    </tr>\n",
       "    <tr>\n",
       "      <th>1</th>\n",
       "      <td>2019-09-01 14:31:35</td>\n",
       "      <td>GENERAL</td>\n",
       "    </tr>\n",
       "    <tr>\n",
       "      <th>2</th>\n",
       "      <td>2019-09-01 20:28:51</td>\n",
       "      <td>HEAT/HOT WATER</td>\n",
       "    </tr>\n",
       "    <tr>\n",
       "      <th>3</th>\n",
       "      <td>2019-09-01 11:54:18</td>\n",
       "      <td>WATER LEAK</td>\n",
       "    </tr>\n",
       "    <tr>\n",
       "      <th>4</th>\n",
       "      <td>2019-09-01 14:53:00</td>\n",
       "      <td>HEAT/HOT WATER</td>\n",
       "    </tr>\n",
       "  </tbody>\n",
       "</table>\n",
       "</div>"
      ],
      "text/plain": [
       "         created_date        complaint_type\n",
       "0 2019-09-01 17:14:28  UNSANITARY CONDITION\n",
       "1 2019-09-01 14:31:35               GENERAL\n",
       "2 2019-09-01 20:28:51        HEAT/HOT WATER\n",
       "3 2019-09-01 11:54:18            WATER LEAK\n",
       "4 2019-09-01 14:53:00        HEAT/HOT WATER"
      ]
     },
     "execution_count": 5,
     "metadata": {},
     "output_type": "execute_result"
    }
   ],
   "source": [
    "import types\n",
    "import pandas as pd\n",
    "from botocore.client import Config\n",
    "import ibm_boto3\n",
    "\n",
    "def __iter__(self): return 0\n",
    "\n",
    "# @hidden_cell\n",
    "# The following code accesses a file in your IBM Cloud Object Storage. It includes your credentials.\n",
    "# You might want to remove those credentials before you share the notebook.\n",
    "client_51a3837687ca424c88d81a9214afdc84 = ibm_boto3.client(service_name='s3',\n",
    "    ibm_api_key_id='<replace_with_your_ibm_api_key_id>',\n",
    "    ibm_auth_endpoint=\"https://iam.ng.bluemix.net/oidc/token\",\n",
    "    config=Config(signature_version='oauth'),\n",
    "    endpoint_url='https://s3-api.us-geo.objectstorage.service.networklayer.com')\n",
    "\n",
    "body = client_51a3837687ca424c88d81a9214afdc84.get_object(Bucket='<replace_with_your_bucket_id>',Key='fhrw-4uyv.csv')['Body']\n",
    "# add missing __iter__ method, so pandas accepts body as file-like object\n",
    "if not hasattr(body, \"__iter__\"): body.__iter__ = types.MethodType( __iter__, body )\n",
    "\n",
    "df_311nyc_model_1 = pd.read_csv(body, usecols = [\"created_date\", \"complaint_type\"], parse_dates = [\"created_date\"])\n",
    "df_311nyc_model_1.head()\n"
   ]
  },
  {
   "cell_type": "code",
   "execution_count": 6,
   "metadata": {},
   "outputs": [],
   "source": [
    "#Step 3 - Calculating the total number of complaints for each complaint type"
   ]
  },
  {
   "cell_type": "code",
   "execution_count": 7,
   "metadata": {},
   "outputs": [
    {
     "data": {
      "text/plain": [
       "HEAT/HOT WATER            1150569\n",
       "HEATING                    887869\n",
       "PLUMBING                   702389\n",
       "GENERAL CONSTRUCTION       500863\n",
       "UNSANITARY CONDITION       435768\n",
       "PAINT - PLASTER            361258\n",
       "PAINT/PLASTER              340979\n",
       "ELECTRIC                   303314\n",
       "NONCONST                   260890\n",
       "DOOR/WINDOW                199690\n",
       "WATER LEAK                 187264\n",
       "GENERAL                    146066\n",
       "FLOORING/STAIRS            135257\n",
       "APPLIANCE                  109605\n",
       "HPD Literature Request      52830\n",
       "SAFETY                      49975\n",
       "OUTSIDE BUILDING             7018\n",
       "ELEVATOR                     6421\n",
       "Unsanitary Condition         5499\n",
       "CONSTRUCTION                 5078\n",
       "General                      1163\n",
       "Safety                        424\n",
       "STRUCTURAL                     16\n",
       "Plumbing                       11\n",
       "AGENCY                          9\n",
       "VACANT APARTMENT                8\n",
       "Outside Building                6\n",
       "Appliance                       4\n",
       "Mold                            1\n",
       "Name: complaint_type, dtype: int64"
      ]
     },
     "execution_count": 7,
     "metadata": {},
     "output_type": "execute_result"
    }
   ],
   "source": [
    "df_311nyc_model_1[\"complaint_type\"].value_counts()"
   ]
  },
  {
   "cell_type": "code",
   "execution_count": 8,
   "metadata": {},
   "outputs": [],
   "source": [
    "#Step 4 - To consider both HEAT/HOT WATER and HEATING complaints for this problem, replacing values HEATING with HEAT/HOT WATER"
   ]
  },
  {
   "cell_type": "code",
   "execution_count": 9,
   "metadata": {},
   "outputs": [],
   "source": [
    "df_311nyc_model_1[\"complaint_type\"] = np.where(df_311nyc_model_1[\"complaint_type\"]=='HEATING','HEAT/HOT WATER',df_311nyc_model_1[\"complaint_type\"])"
   ]
  },
  {
   "cell_type": "code",
   "execution_count": 10,
   "metadata": {},
   "outputs": [],
   "source": [
    "# Step 5 - Calculating again the total number of complaints for each complaint type"
   ]
  },
  {
   "cell_type": "code",
   "execution_count": 11,
   "metadata": {},
   "outputs": [
    {
     "data": {
      "text/plain": [
       "HEAT/HOT WATER            2038438\n",
       "PLUMBING                   702389\n",
       "GENERAL CONSTRUCTION       500863\n",
       "UNSANITARY CONDITION       435768\n",
       "PAINT - PLASTER            361258\n",
       "PAINT/PLASTER              340979\n",
       "ELECTRIC                   303314\n",
       "NONCONST                   260890\n",
       "DOOR/WINDOW                199690\n",
       "WATER LEAK                 187264\n",
       "GENERAL                    146066\n",
       "FLOORING/STAIRS            135257\n",
       "APPLIANCE                  109605\n",
       "HPD Literature Request      52830\n",
       "SAFETY                      49975\n",
       "OUTSIDE BUILDING             7018\n",
       "ELEVATOR                     6421\n",
       "Unsanitary Condition         5499\n",
       "CONSTRUCTION                 5078\n",
       "General                      1163\n",
       "Safety                        424\n",
       "STRUCTURAL                     16\n",
       "Plumbing                       11\n",
       "AGENCY                          9\n",
       "VACANT APARTMENT                8\n",
       "Outside Building                6\n",
       "Appliance                       4\n",
       "Mold                            1\n",
       "Name: complaint_type, dtype: int64"
      ]
     },
     "execution_count": 11,
     "metadata": {},
     "output_type": "execute_result"
    }
   ],
   "source": [
    "df_311nyc_model_1[\"complaint_type\"].value_counts()"
   ]
  },
  {
   "cell_type": "code",
   "execution_count": 12,
   "metadata": {},
   "outputs": [],
   "source": [
    "#Step 6 - Creating a sub dataframe \"df_311nyc_top_complaint\" that contains only samples with top complaint type i.e. HEAT/HOT WATER, from the main dataframe \"df_311nyc_model_1\""
   ]
  },
  {
   "cell_type": "code",
   "execution_count": 13,
   "metadata": {},
   "outputs": [
    {
     "data": {
      "text/html": [
       "<div>\n",
       "<style scoped>\n",
       "    .dataframe tbody tr th:only-of-type {\n",
       "        vertical-align: middle;\n",
       "    }\n",
       "\n",
       "    .dataframe tbody tr th {\n",
       "        vertical-align: top;\n",
       "    }\n",
       "\n",
       "    .dataframe thead th {\n",
       "        text-align: right;\n",
       "    }\n",
       "</style>\n",
       "<table border=\"1\" class=\"dataframe\">\n",
       "  <thead>\n",
       "    <tr style=\"text-align: right;\">\n",
       "      <th></th>\n",
       "      <th>created_date</th>\n",
       "      <th>complaint_type</th>\n",
       "    </tr>\n",
       "  </thead>\n",
       "  <tbody>\n",
       "    <tr>\n",
       "      <th>0</th>\n",
       "      <td>2019-09-01 20:28:51</td>\n",
       "      <td>HEAT/HOT WATER</td>\n",
       "    </tr>\n",
       "    <tr>\n",
       "      <th>1</th>\n",
       "      <td>2019-09-01 14:53:00</td>\n",
       "      <td>HEAT/HOT WATER</td>\n",
       "    </tr>\n",
       "    <tr>\n",
       "      <th>2</th>\n",
       "      <td>2019-09-01 10:53:21</td>\n",
       "      <td>HEAT/HOT WATER</td>\n",
       "    </tr>\n",
       "    <tr>\n",
       "      <th>3</th>\n",
       "      <td>2019-09-01 22:54:58</td>\n",
       "      <td>HEAT/HOT WATER</td>\n",
       "    </tr>\n",
       "    <tr>\n",
       "      <th>4</th>\n",
       "      <td>2019-09-01 20:35:02</td>\n",
       "      <td>HEAT/HOT WATER</td>\n",
       "    </tr>\n",
       "  </tbody>\n",
       "</table>\n",
       "</div>"
      ],
      "text/plain": [
       "         created_date  complaint_type\n",
       "0 2019-09-01 20:28:51  HEAT/HOT WATER\n",
       "1 2019-09-01 14:53:00  HEAT/HOT WATER\n",
       "2 2019-09-01 10:53:21  HEAT/HOT WATER\n",
       "3 2019-09-01 22:54:58  HEAT/HOT WATER\n",
       "4 2019-09-01 20:35:02  HEAT/HOT WATER"
      ]
     },
     "execution_count": 13,
     "metadata": {},
     "output_type": "execute_result"
    }
   ],
   "source": [
    "df_311nyc_top_complaint = df_311nyc_model_1[df_311nyc_model_1[\"complaint_type\"]==\"HEAT/HOT WATER\"].reset_index(drop=True)\n",
    "df_311nyc_top_complaint.head()"
   ]
  },
  {
   "cell_type": "code",
   "execution_count": 14,
   "metadata": {},
   "outputs": [],
   "source": [
    "#Step 7 - Creating a time series to get and analyze data with respect to every year, summed upon each month"
   ]
  },
  {
   "cell_type": "code",
   "execution_count": 15,
   "metadata": {},
   "outputs": [
    {
     "data": {
      "text/plain": [
       "created_date\n",
       "2010-01-31    40213\n",
       "2010-02-28    24616\n",
       "2010-03-31    17621\n",
       "2010-04-30     9779\n",
       "2010-05-31     5940\n",
       "2010-06-30     1958\n",
       "2010-07-31     1717\n",
       "2010-08-31     1912\n",
       "2010-09-30     2201\n",
       "2010-10-31    19525\n",
       "2010-11-30    37305\n",
       "2010-12-31    51431\n",
       "Freq: M, dtype: int64"
      ]
     },
     "execution_count": 15,
     "metadata": {},
     "output_type": "execute_result"
    }
   ],
   "source": [
    "time_series = pd.Series(1, index = df_311nyc_top_complaint['created_date'])\n",
    "time_series = time_series.resample('M').sum()\n",
    "time_series.head(12)"
   ]
  },
  {
   "cell_type": "code",
   "execution_count": 16,
   "metadata": {},
   "outputs": [],
   "source": [
    "#Step 8 - Plotting a \"line diagram\" to analyze occurance of top complaint type across every year"
   ]
  },
  {
   "cell_type": "code",
   "execution_count": 17,
   "metadata": {},
   "outputs": [
    {
     "data": {
      "text/plain": [
       "<matplotlib.axes._subplots.AxesSubplot at 0x7f7af4783d68>"
      ]
     },
     "execution_count": 17,
     "metadata": {},
     "output_type": "execute_result"
    },
    {
     "data": {
      "image/png": "[encoded data removed]",
      "text/plain": [
       "<Figure size 432x288 with 1 Axes>"
      ]
     },
     "metadata": {
      "needs_background": "light"
     },
     "output_type": "display_data"
    }
   ],
   "source": [
    "import matplotlib.pyplot as plt\n",
    "time_series.plot(kind='line')"
   ]
  },
  {
   "cell_type": "code",
   "execution_count": 18,
   "metadata": {},
   "outputs": [
    {
     "data": {
      "text/plain": [
       "'From the graph above, we can conclude that number of top complaint type i.e. HEAT/HOT WATER increases at\\nstart of an year i.e. during winters and decreses after mid-year i.e. during summers'"
      ]
     },
     "execution_count": 18,
     "metadata": {},
     "output_type": "execute_result"
    }
   ],
   "source": [
    "\"\"\"From the graph above, we can conclude that number of top complaint type i.e. HEAT/HOT WATER increases at\n",
    "start of an year i.e. during winters and decreses after mid-year i.e. during summers\"\"\""
   ]
  },
  {
   "cell_type": "code",
   "execution_count": 19,
   "metadata": {},
   "outputs": [],
   "source": [
    "#Step 9 - Calculating the total number of top complaint type per year"
   ]
  },
  {
   "cell_type": "code",
   "execution_count": 20,
   "metadata": {},
   "outputs": [],
   "source": [
    "df_group = df_311nyc_top_complaint.groupby(df_311nyc_top_complaint.created_date.dt.year)"
   ]
  },
  {
   "cell_type": "code",
   "execution_count": 21,
   "metadata": {},
   "outputs": [],
   "source": [
    "#Step 10 - Converting the GroupByObject to Dataframe"
   ]
  },
  {
   "cell_type": "code",
   "execution_count": 22,
   "metadata": {},
   "outputs": [
    {
     "data": {
      "text/html": [
       "<div>\n",
       "<style scoped>\n",
       "    .dataframe tbody tr th:only-of-type {\n",
       "        vertical-align: middle;\n",
       "    }\n",
       "\n",
       "    .dataframe tbody tr th {\n",
       "        vertical-align: top;\n",
       "    }\n",
       "\n",
       "    .dataframe thead th {\n",
       "        text-align: right;\n",
       "    }\n",
       "</style>\n",
       "<table border=\"1\" class=\"dataframe\">\n",
       "  <thead>\n",
       "    <tr style=\"text-align: right;\">\n",
       "      <th></th>\n",
       "      <th>created_date</th>\n",
       "      <th>complaint_type</th>\n",
       "    </tr>\n",
       "  </thead>\n",
       "  <tbody>\n",
       "    <tr>\n",
       "      <th>0</th>\n",
       "      <td>2010</td>\n",
       "      <td>214218</td>\n",
       "    </tr>\n",
       "    <tr>\n",
       "      <th>1</th>\n",
       "      <td>2011</td>\n",
       "      <td>190184</td>\n",
       "    </tr>\n",
       "    <tr>\n",
       "      <th>2</th>\n",
       "      <td>2012</td>\n",
       "      <td>182974</td>\n",
       "    </tr>\n",
       "    <tr>\n",
       "      <th>3</th>\n",
       "      <td>2013</td>\n",
       "      <td>202896</td>\n",
       "    </tr>\n",
       "    <tr>\n",
       "      <th>4</th>\n",
       "      <td>2014</td>\n",
       "      <td>230364</td>\n",
       "    </tr>\n",
       "    <tr>\n",
       "      <th>5</th>\n",
       "      <td>2015</td>\n",
       "      <td>225706</td>\n",
       "    </tr>\n",
       "    <tr>\n",
       "      <th>6</th>\n",
       "      <td>2016</td>\n",
       "      <td>227959</td>\n",
       "    </tr>\n",
       "    <tr>\n",
       "      <th>7</th>\n",
       "      <td>2017</td>\n",
       "      <td>213521</td>\n",
       "    </tr>\n",
       "    <tr>\n",
       "      <th>8</th>\n",
       "      <td>2018</td>\n",
       "      <td>223835</td>\n",
       "    </tr>\n",
       "    <tr>\n",
       "      <th>9</th>\n",
       "      <td>2019</td>\n",
       "      <td>126781</td>\n",
       "    </tr>\n",
       "  </tbody>\n",
       "</table>\n",
       "</div>"
      ],
      "text/plain": [
       "   created_date  complaint_type\n",
       "0          2010          214218\n",
       "1          2011          190184\n",
       "2          2012          182974\n",
       "3          2013          202896\n",
       "4          2014          230364\n",
       "5          2015          225706\n",
       "6          2016          227959\n",
       "7          2017          213521\n",
       "8          2018          223835\n",
       "9          2019          126781"
      ]
     },
     "execution_count": 22,
     "metadata": {},
     "output_type": "execute_result"
    }
   ],
   "source": [
    "df_model_1 = df_group[\"complaint_type\"].size().to_frame().reset_index()\n",
    "df_model_1"
   ]
  },
  {
   "cell_type": "code",
   "execution_count": 23,
   "metadata": {},
   "outputs": [],
   "source": [
    "#Step 11 - Checking the \"type\" to confirm if conversion is successfully completed"
   ]
  },
  {
   "cell_type": "code",
   "execution_count": 24,
   "metadata": {},
   "outputs": [
    {
     "data": {
      "text/plain": [
       "pandas.core.frame.DataFrame"
      ]
     },
     "execution_count": 24,
     "metadata": {},
     "output_type": "execute_result"
    }
   ],
   "source": [
    "type(df_model_1)"
   ]
  },
  {
   "cell_type": "code",
   "execution_count": 25,
   "metadata": {},
   "outputs": [],
   "source": [
    "#Step 12 - Removing complaints from year 2019 as it only contains data till September 2019 and not for the whole year"
   ]
  },
  {
   "cell_type": "code",
   "execution_count": 26,
   "metadata": {},
   "outputs": [
    {
     "data": {
      "text/html": [
       "<div>\n",
       "<style scoped>\n",
       "    .dataframe tbody tr th:only-of-type {\n",
       "        vertical-align: middle;\n",
       "    }\n",
       "\n",
       "    .dataframe tbody tr th {\n",
       "        vertical-align: top;\n",
       "    }\n",
       "\n",
       "    .dataframe thead th {\n",
       "        text-align: right;\n",
       "    }\n",
       "</style>\n",
       "<table border=\"1\" class=\"dataframe\">\n",
       "  <thead>\n",
       "    <tr style=\"text-align: right;\">\n",
       "      <th></th>\n",
       "      <th>created_date</th>\n",
       "      <th>complaint_type</th>\n",
       "    </tr>\n",
       "  </thead>\n",
       "  <tbody>\n",
       "    <tr>\n",
       "      <th>0</th>\n",
       "      <td>2010</td>\n",
       "      <td>214218</td>\n",
       "    </tr>\n",
       "    <tr>\n",
       "      <th>1</th>\n",
       "      <td>2011</td>\n",
       "      <td>190184</td>\n",
       "    </tr>\n",
       "    <tr>\n",
       "      <th>2</th>\n",
       "      <td>2012</td>\n",
       "      <td>182974</td>\n",
       "    </tr>\n",
       "    <tr>\n",
       "      <th>3</th>\n",
       "      <td>2013</td>\n",
       "      <td>202896</td>\n",
       "    </tr>\n",
       "    <tr>\n",
       "      <th>4</th>\n",
       "      <td>2014</td>\n",
       "      <td>230364</td>\n",
       "    </tr>\n",
       "    <tr>\n",
       "      <th>5</th>\n",
       "      <td>2015</td>\n",
       "      <td>225706</td>\n",
       "    </tr>\n",
       "    <tr>\n",
       "      <th>6</th>\n",
       "      <td>2016</td>\n",
       "      <td>227959</td>\n",
       "    </tr>\n",
       "    <tr>\n",
       "      <th>7</th>\n",
       "      <td>2017</td>\n",
       "      <td>213521</td>\n",
       "    </tr>\n",
       "    <tr>\n",
       "      <th>8</th>\n",
       "      <td>2018</td>\n",
       "      <td>223835</td>\n",
       "    </tr>\n",
       "  </tbody>\n",
       "</table>\n",
       "</div>"
      ],
      "text/plain": [
       "   created_date  complaint_type\n",
       "0          2010          214218\n",
       "1          2011          190184\n",
       "2          2012          182974\n",
       "3          2013          202896\n",
       "4          2014          230364\n",
       "5          2015          225706\n",
       "6          2016          227959\n",
       "7          2017          213521\n",
       "8          2018          223835"
      ]
     },
     "execution_count": 26,
     "metadata": {},
     "output_type": "execute_result"
    }
   ],
   "source": [
    "df_model_1.drop(df_model_1.tail(1).index,inplace=True)\n",
    "df_model_1"
   ]
  },
  {
   "cell_type": "code",
   "execution_count": 27,
   "metadata": {},
   "outputs": [],
   "source": [
    "#Step 13 - Plotting a \"bar graph\" to visually analyze distribution of data i.e. top complaints across the years 2010 - 2018"
   ]
  },
  {
   "cell_type": "code",
   "execution_count": 28,
   "metadata": {},
   "outputs": [
    {
     "data": {
      "text/plain": [
       "Text(0.5, 1.0, 'Total Complaints Per Year')"
      ]
     },
     "execution_count": 28,
     "metadata": {},
     "output_type": "execute_result"
    },
    {
     "data": {
      "image/png": "[encoded data removed]",
      "text/plain": [
       "<Figure size 720x720 with 1 Axes>"
      ]
     },
     "metadata": {
      "needs_background": "light"
     },
     "output_type": "display_data"
    }
   ],
   "source": [
    "df_model_1.plot(x=\"created_date\", y=\"complaint_type\", kind=\"bar\", figsize = (10,10), color=sns.color_palette(\"Blues\", len(df_model_1)))\n",
    "plt.title('Total Complaints Per Year')"
   ]
  },
  {
   "cell_type": "code",
   "execution_count": 29,
   "metadata": {},
   "outputs": [],
   "source": [
    "#Step 14 - Creating set of predictor x and target y variables"
   ]
  },
  {
   "cell_type": "code",
   "execution_count": 30,
   "metadata": {},
   "outputs": [],
   "source": [
    "x = df_model_1[\"created_date\"]\n",
    "y = df_model_1[\"complaint_type\"]"
   ]
  },
  {
   "cell_type": "code",
   "execution_count": 31,
   "metadata": {},
   "outputs": [],
   "source": [
    "#Step 15 - Preprocessing predictor data for modelling"
   ]
  },
  {
   "cell_type": "code",
   "execution_count": 32,
   "metadata": {},
   "outputs": [],
   "source": [
    "x = np.asarray(x)"
   ]
  },
  {
   "cell_type": "code",
   "execution_count": 33,
   "metadata": {},
   "outputs": [],
   "source": [
    "x = x.reshape(-1, 1)"
   ]
  },
  {
   "cell_type": "code",
   "execution_count": 34,
   "metadata": {},
   "outputs": [],
   "source": [
    "#Step 16 - Defining and fitting the model"
   ]
  },
  {
   "cell_type": "code",
   "execution_count": 35,
   "metadata": {},
   "outputs": [
    {
     "data": {
      "text/plain": [
       "LinearRegression(copy_X=True, fit_intercept=True, n_jobs=None,\n",
       "         normalize=False)"
      ]
     },
     "execution_count": 35,
     "metadata": {},
     "output_type": "execute_result"
    }
   ],
   "source": [
    "from sklearn.linear_model import LinearRegression \n",
    "linear_reg = LinearRegression()\n",
    "linear_reg.fit(x,y)"
   ]
  },
  {
   "cell_type": "code",
   "execution_count": 36,
   "metadata": {},
   "outputs": [],
   "source": [
    "#Step 17 - Using the trained model to predict total number of complaints that department can expect for the year 2019"
   ]
  },
  {
   "cell_type": "code",
   "execution_count": 37,
   "metadata": {},
   "outputs": [
    {
     "data": {
      "text/plain": [
       "array([230844.58333333])"
      ]
     },
     "execution_count": 37,
     "metadata": {},
     "output_type": "execute_result"
    }
   ],
   "source": [
    "linear_reg.predict([[2019]])"
   ]
  },
  {
   "cell_type": "code",
   "execution_count": 38,
   "metadata": {},
   "outputs": [
    {
     "data": {
      "text/plain": [
       "'Conclusion: A simple model can be created based on historic data available, to predict the number of future complaints\\nusing Linear Regression Algorithm as we are trying to predict a continuous value (number of complaints) based on single variable (date).'"
      ]
     },
     "execution_count": 38,
     "metadata": {},
     "output_type": "execute_result"
    }
   ],
   "source": [
    "\"\"\"Conclusion: A simple model can be created based on historic data available, to predict the number of future complaints\n",
    "using Linear Regression Algorithm as we are trying to predict a continuous value (number of complaints) based on single variable (date).\"\"\""
   ]
  },
  {
   "cell_type": "code",
   "execution_count": 39,
   "metadata": {},
   "outputs": [
    {
     "data": {
      "text/plain": [
       "'Creating a predictive model using Decision Tree Classification algorithm to estimate the probability/possibility of complaints of specific type (here top complaint) based on the relation between its occurrence due to different characteristics of a house.'"
      ]
     },
     "execution_count": 39,
     "metadata": {},
     "output_type": "execute_result"
    }
   ],
   "source": [
    "\"\"\"Creating a predictive model using Decision Tree Classification algorithm to estimate the probability/possibility of complaints of specific type (here top complaint) based on the relation between its occurrence due to different characteristics of a house.\"\"\""
   ]
  },
  {
   "cell_type": "code",
   "execution_count": 40,
   "metadata": {},
   "outputs": [],
   "source": [
    "#Step 1 - Creating a pandas dataframe \"df_311nyc_model_2\" with only 2 columns from the data available in csv format"
   ]
  },
  {
   "cell_type": "code",
   "execution_count": 41,
   "metadata": {},
   "outputs": [
    {
     "data": {
      "text/html": [
       "<div>\n",
       "<style scoped>\n",
       "    .dataframe tbody tr th:only-of-type {\n",
       "        vertical-align: middle;\n",
       "    }\n",
       "\n",
       "    .dataframe tbody tr th {\n",
       "        vertical-align: top;\n",
       "    }\n",
       "\n",
       "    .dataframe thead th {\n",
       "        text-align: right;\n",
       "    }\n",
       "</style>\n",
       "<table border=\"1\" class=\"dataframe\">\n",
       "  <thead>\n",
       "    <tr style=\"text-align: right;\">\n",
       "      <th></th>\n",
       "      <th>complaint_type</th>\n",
       "      <th>incident_address</th>\n",
       "    </tr>\n",
       "  </thead>\n",
       "  <tbody>\n",
       "    <tr>\n",
       "      <th>0</th>\n",
       "      <td>UNSANITARY CONDITION</td>\n",
       "      <td>97-05 HORACE HARDING EXPRESSWAY</td>\n",
       "    </tr>\n",
       "    <tr>\n",
       "      <th>1</th>\n",
       "      <td>GENERAL</td>\n",
       "      <td>110 ROCHESTER AVENUE</td>\n",
       "    </tr>\n",
       "    <tr>\n",
       "      <th>2</th>\n",
       "      <td>HEAT/HOT WATER</td>\n",
       "      <td>271 HAWTHORNE STREET</td>\n",
       "    </tr>\n",
       "    <tr>\n",
       "      <th>3</th>\n",
       "      <td>WATER LEAK</td>\n",
       "      <td>2714 WALLACE AVENUE</td>\n",
       "    </tr>\n",
       "    <tr>\n",
       "      <th>4</th>\n",
       "      <td>HEAT/HOT WATER</td>\n",
       "      <td>271 HAWTHORNE STREET</td>\n",
       "    </tr>\n",
       "  </tbody>\n",
       "</table>\n",
       "</div>"
      ],
      "text/plain": [
       "         complaint_type                 incident_address\n",
       "0  UNSANITARY CONDITION  97-05 HORACE HARDING EXPRESSWAY\n",
       "1               GENERAL             110 ROCHESTER AVENUE\n",
       "2        HEAT/HOT WATER             271 HAWTHORNE STREET\n",
       "3            WATER LEAK              2714 WALLACE AVENUE\n",
       "4        HEAT/HOT WATER             271 HAWTHORNE STREET"
      ]
     },
     "execution_count": 41,
     "metadata": {},
     "output_type": "execute_result"
    }
   ],
   "source": [
    "body = client_51a3837687ca424c88d81a9214afdc84.get_object(Bucket='edx-donotdelete-pr-eroq0nxwstcsdh',Key='fhrw-4uyv.csv')['Body']\n",
    "# add missing __iter__ method, so pandas accepts body as file-like object\n",
    "if not hasattr(body, \"__iter__\"): body.__iter__ = types.MethodType( __iter__, body )\n",
    "\n",
    "df_311nyc_model_2 = pd.read_csv(body, usecols = [\"incident_address\",\"complaint_type\"])\n",
    "df_311nyc_model_2.head()\n"
   ]
  },
  {
   "cell_type": "code",
   "execution_count": 42,
   "metadata": {},
   "outputs": [],
   "source": [
    "#Step 2 - Identifying unique values for the column complaint_type"
   ]
  },
  {
   "cell_type": "code",
   "execution_count": 43,
   "metadata": {},
   "outputs": [
    {
     "data": {
      "text/plain": [
       "array(['UNSANITARY CONDITION', 'GENERAL', 'HEAT/HOT WATER', 'WATER LEAK',\n",
       "       'PLUMBING', 'ELECTRIC', 'SAFETY', 'DOOR/WINDOW', 'PAINT/PLASTER',\n",
       "       'FLOORING/STAIRS', 'ELEVATOR', 'APPLIANCE', 'General',\n",
       "       'Unsanitary Condition', 'OUTSIDE BUILDING', 'Safety', 'Appliance',\n",
       "       'Mold', 'Plumbing', 'HPD Literature Request', 'PAINT - PLASTER',\n",
       "       'HEATING', 'GENERAL CONSTRUCTION', 'Outside Building', 'NONCONST',\n",
       "       'CONSTRUCTION', 'AGENCY', 'STRUCTURAL', 'VACANT APARTMENT'],\n",
       "      dtype=object)"
      ]
     },
     "execution_count": 43,
     "metadata": {},
     "output_type": "execute_result"
    }
   ],
   "source": [
    "df_311nyc_model_2[\"complaint_type\"].unique()"
   ]
  },
  {
   "cell_type": "code",
   "execution_count": 44,
   "metadata": {},
   "outputs": [
    {
     "data": {
      "text/plain": [
       "'Coverting multi-label data of the column complaint_type to binary in order to create a model that predicts the \"Probabilty of occurance of top complaint type\" based on given house characteristics'"
      ]
     },
     "execution_count": 44,
     "metadata": {},
     "output_type": "execute_result"
    }
   ],
   "source": [
    "\"\"\"Coverting multi-label data of the column complaint_type to binary in order to create a model that predicts the \"Probabilty of occurance of top complaint type\" based on given house characteristics\"\"\""
   ]
  },
  {
   "cell_type": "code",
   "execution_count": 45,
   "metadata": {},
   "outputs": [],
   "source": [
    "#Step 3 - Changing values for the column complaint_type into 2 classes YES & NO i.e. complaints related to heat and hot water are lablled yes and all others as no"
   ]
  },
  {
   "cell_type": "code",
   "execution_count": 46,
   "metadata": {},
   "outputs": [
    {
     "data": {
      "text/html": [
       "<div>\n",
       "<style scoped>\n",
       "    .dataframe tbody tr th:only-of-type {\n",
       "        vertical-align: middle;\n",
       "    }\n",
       "\n",
       "    .dataframe tbody tr th {\n",
       "        vertical-align: top;\n",
       "    }\n",
       "\n",
       "    .dataframe thead th {\n",
       "        text-align: right;\n",
       "    }\n",
       "</style>\n",
       "<table border=\"1\" class=\"dataframe\">\n",
       "  <thead>\n",
       "    <tr style=\"text-align: right;\">\n",
       "      <th></th>\n",
       "      <th>complaint_type</th>\n",
       "      <th>incident_address</th>\n",
       "    </tr>\n",
       "  </thead>\n",
       "  <tbody>\n",
       "    <tr>\n",
       "      <th>0</th>\n",
       "      <td>NO</td>\n",
       "      <td>97-05 HORACE HARDING EXPRESSWAY</td>\n",
       "    </tr>\n",
       "    <tr>\n",
       "      <th>1</th>\n",
       "      <td>NO</td>\n",
       "      <td>110 ROCHESTER AVENUE</td>\n",
       "    </tr>\n",
       "    <tr>\n",
       "      <th>2</th>\n",
       "      <td>YES</td>\n",
       "      <td>271 HAWTHORNE STREET</td>\n",
       "    </tr>\n",
       "    <tr>\n",
       "      <th>3</th>\n",
       "      <td>NO</td>\n",
       "      <td>2714 WALLACE AVENUE</td>\n",
       "    </tr>\n",
       "    <tr>\n",
       "      <th>4</th>\n",
       "      <td>YES</td>\n",
       "      <td>271 HAWTHORNE STREET</td>\n",
       "    </tr>\n",
       "  </tbody>\n",
       "</table>\n",
       "</div>"
      ],
      "text/plain": [
       "  complaint_type                 incident_address\n",
       "0             NO  97-05 HORACE HARDING EXPRESSWAY\n",
       "1             NO             110 ROCHESTER AVENUE\n",
       "2            YES             271 HAWTHORNE STREET\n",
       "3             NO              2714 WALLACE AVENUE\n",
       "4            YES             271 HAWTHORNE STREET"
      ]
     },
     "execution_count": 46,
     "metadata": {},
     "output_type": "execute_result"
    }
   ],
   "source": [
    "import numpy as np\n",
    "df_311nyc_model_2[\"complaint_type\"] = np.where(df_311nyc_model_2[\"complaint_type\"]=='HEAT/HOT WATER','YES',df_311nyc_model_2[\"complaint_type\"])\n",
    "df_311nyc_model_2[\"complaint_type\"] = np.where(df_311nyc_model_2[\"complaint_type\"]=='HEATING','YES',df_311nyc_model_2[\"complaint_type\"])\n",
    "df_311nyc_model_2[\"complaint_type\"] = np.where(df_311nyc_model_2[\"complaint_type\"]!='YES', 'NO',df_311nyc_model_2[\"complaint_type\"])\n",
    "df_311nyc_model_2.head()"
   ]
  },
  {
   "cell_type": "code",
   "execution_count": 47,
   "metadata": {},
   "outputs": [],
   "source": [
    "#Step 4 - Creating a pandas dataframe \"df_pluto\" containing 5 columns from the data available in csv format"
   ]
  },
  {
   "cell_type": "code",
   "execution_count": 48,
   "metadata": {},
   "outputs": [
    {
     "data": {
      "text/html": [
       "<div>\n",
       "<style scoped>\n",
       "    .dataframe tbody tr th:only-of-type {\n",
       "        vertical-align: middle;\n",
       "    }\n",
       "\n",
       "    .dataframe tbody tr th {\n",
       "        vertical-align: top;\n",
       "    }\n",
       "\n",
       "    .dataframe thead th {\n",
       "        text-align: right;\n",
       "    }\n",
       "</style>\n",
       "<table border=\"1\" class=\"dataframe\">\n",
       "  <thead>\n",
       "    <tr style=\"text-align: right;\">\n",
       "      <th></th>\n",
       "      <th>address</th>\n",
       "      <th>bldgarea</th>\n",
       "      <th>resarea</th>\n",
       "      <th>numfloors</th>\n",
       "      <th>bldgdepth</th>\n",
       "    </tr>\n",
       "  </thead>\n",
       "  <tbody>\n",
       "    <tr>\n",
       "      <th>0</th>\n",
       "      <td>CITY ISLAND AVENUE</td>\n",
       "      <td>0.0</td>\n",
       "      <td>NaN</td>\n",
       "      <td>0.0</td>\n",
       "      <td>0.0</td>\n",
       "    </tr>\n",
       "    <tr>\n",
       "      <th>1</th>\n",
       "      <td>8-03 117 STREET</td>\n",
       "      <td>3130.0</td>\n",
       "      <td>3130.0</td>\n",
       "      <td>2.5</td>\n",
       "      <td>25.0</td>\n",
       "    </tr>\n",
       "    <tr>\n",
       "      <th>2</th>\n",
       "      <td>SEMINOLE AVENUE</td>\n",
       "      <td>0.0</td>\n",
       "      <td>NaN</td>\n",
       "      <td>0.0</td>\n",
       "      <td>0.0</td>\n",
       "    </tr>\n",
       "    <tr>\n",
       "      <th>3</th>\n",
       "      <td>EAST 156 STREET</td>\n",
       "      <td>0.0</td>\n",
       "      <td>NaN</td>\n",
       "      <td>0.0</td>\n",
       "      <td>0.0</td>\n",
       "    </tr>\n",
       "    <tr>\n",
       "      <th>4</th>\n",
       "      <td>216 FRANKLIN AVENUE</td>\n",
       "      <td>1590.0</td>\n",
       "      <td>1590.0</td>\n",
       "      <td>2.5</td>\n",
       "      <td>30.0</td>\n",
       "    </tr>\n",
       "  </tbody>\n",
       "</table>\n",
       "</div>"
      ],
      "text/plain": [
       "                address  bldgarea  resarea  numfloors  bldgdepth\n",
       "0    CITY ISLAND AVENUE       0.0      NaN        0.0        0.0\n",
       "1       8-03 117 STREET    3130.0   3130.0        2.5       25.0\n",
       "2       SEMINOLE AVENUE       0.0      NaN        0.0        0.0\n",
       "3       EAST 156 STREET       0.0      NaN        0.0        0.0\n",
       "4   216 FRANKLIN AVENUE    1590.0   1590.0        2.5       30.0"
      ]
     },
     "execution_count": 48,
     "metadata": {},
     "output_type": "execute_result"
    }
   ],
   "source": [
    "body = client_51a3837687ca424c88d81a9214afdc84.get_object(Bucket='edx-donotdelete-pr-eroq0nxwstcsdh',Key='pluto_18v2_1.csv')['Body']\n",
    "# add missing __iter__ method, so pandas accepts body as file-like object\n",
    "if not hasattr(body, \"__iter__\"): body.__iter__ = types.MethodType( __iter__, body )\n",
    "\n",
    "df_pluto = pd.read_csv(body, usecols=['address','resarea','bldgarea','bldgdepth','numfloors'])\n",
    "df_pluto.head()"
   ]
  },
  {
   "cell_type": "code",
   "execution_count": 49,
   "metadata": {},
   "outputs": [],
   "source": [
    "#Step 5 - Dropping duplicates"
   ]
  },
  {
   "cell_type": "code",
   "execution_count": 50,
   "metadata": {},
   "outputs": [
    {
     "data": {
      "text/html": [
       "<div>\n",
       "<style scoped>\n",
       "    .dataframe tbody tr th:only-of-type {\n",
       "        vertical-align: middle;\n",
       "    }\n",
       "\n",
       "    .dataframe tbody tr th {\n",
       "        vertical-align: top;\n",
       "    }\n",
       "\n",
       "    .dataframe thead th {\n",
       "        text-align: right;\n",
       "    }\n",
       "</style>\n",
       "<table border=\"1\" class=\"dataframe\">\n",
       "  <thead>\n",
       "    <tr style=\"text-align: right;\">\n",
       "      <th></th>\n",
       "      <th>address</th>\n",
       "      <th>bldgarea</th>\n",
       "      <th>resarea</th>\n",
       "      <th>numfloors</th>\n",
       "      <th>bldgdepth</th>\n",
       "    </tr>\n",
       "  </thead>\n",
       "  <tbody>\n",
       "    <tr>\n",
       "      <th>0</th>\n",
       "      <td>CITY ISLAND AVENUE</td>\n",
       "      <td>0.0</td>\n",
       "      <td>NaN</td>\n",
       "      <td>0.0</td>\n",
       "      <td>0.0</td>\n",
       "    </tr>\n",
       "    <tr>\n",
       "      <th>1</th>\n",
       "      <td>8-03 117 STREET</td>\n",
       "      <td>3130.0</td>\n",
       "      <td>3130.0</td>\n",
       "      <td>2.5</td>\n",
       "      <td>25.0</td>\n",
       "    </tr>\n",
       "    <tr>\n",
       "      <th>2</th>\n",
       "      <td>SEMINOLE AVENUE</td>\n",
       "      <td>0.0</td>\n",
       "      <td>NaN</td>\n",
       "      <td>0.0</td>\n",
       "      <td>0.0</td>\n",
       "    </tr>\n",
       "    <tr>\n",
       "      <th>3</th>\n",
       "      <td>EAST 156 STREET</td>\n",
       "      <td>0.0</td>\n",
       "      <td>NaN</td>\n",
       "      <td>0.0</td>\n",
       "      <td>0.0</td>\n",
       "    </tr>\n",
       "    <tr>\n",
       "      <th>4</th>\n",
       "      <td>216 FRANKLIN AVENUE</td>\n",
       "      <td>1590.0</td>\n",
       "      <td>1590.0</td>\n",
       "      <td>2.5</td>\n",
       "      <td>30.0</td>\n",
       "    </tr>\n",
       "  </tbody>\n",
       "</table>\n",
       "</div>"
      ],
      "text/plain": [
       "                address  bldgarea  resarea  numfloors  bldgdepth\n",
       "0    CITY ISLAND AVENUE       0.0      NaN        0.0        0.0\n",
       "1       8-03 117 STREET    3130.0   3130.0        2.5       25.0\n",
       "2       SEMINOLE AVENUE       0.0      NaN        0.0        0.0\n",
       "3       EAST 156 STREET       0.0      NaN        0.0        0.0\n",
       "4   216 FRANKLIN AVENUE    1590.0   1590.0        2.5       30.0"
      ]
     },
     "execution_count": 50,
     "metadata": {},
     "output_type": "execute_result"
    }
   ],
   "source": [
    "df_pluto.drop_duplicates(subset=\"address\", keep='first', inplace=True)\n",
    "df_pluto.head()"
   ]
  },
  {
   "cell_type": "code",
   "execution_count": 51,
   "metadata": {},
   "outputs": [],
   "source": [
    "#Step 6 - Changing column name from incident_address to address to facilitate merging of two dataframes i.e. df_311nyc and df_pluto"
   ]
  },
  {
   "cell_type": "code",
   "execution_count": 52,
   "metadata": {},
   "outputs": [
    {
     "data": {
      "text/html": [
       "<div>\n",
       "<style scoped>\n",
       "    .dataframe tbody tr th:only-of-type {\n",
       "        vertical-align: middle;\n",
       "    }\n",
       "\n",
       "    .dataframe tbody tr th {\n",
       "        vertical-align: top;\n",
       "    }\n",
       "\n",
       "    .dataframe thead th {\n",
       "        text-align: right;\n",
       "    }\n",
       "</style>\n",
       "<table border=\"1\" class=\"dataframe\">\n",
       "  <thead>\n",
       "    <tr style=\"text-align: right;\">\n",
       "      <th></th>\n",
       "      <th>complaint_type</th>\n",
       "      <th>address</th>\n",
       "    </tr>\n",
       "  </thead>\n",
       "  <tbody>\n",
       "    <tr>\n",
       "      <th>0</th>\n",
       "      <td>NO</td>\n",
       "      <td>97-05 HORACE HARDING EXPRESSWAY</td>\n",
       "    </tr>\n",
       "    <tr>\n",
       "      <th>1</th>\n",
       "      <td>NO</td>\n",
       "      <td>110 ROCHESTER AVENUE</td>\n",
       "    </tr>\n",
       "    <tr>\n",
       "      <th>2</th>\n",
       "      <td>YES</td>\n",
       "      <td>271 HAWTHORNE STREET</td>\n",
       "    </tr>\n",
       "    <tr>\n",
       "      <th>3</th>\n",
       "      <td>NO</td>\n",
       "      <td>2714 WALLACE AVENUE</td>\n",
       "    </tr>\n",
       "    <tr>\n",
       "      <th>4</th>\n",
       "      <td>YES</td>\n",
       "      <td>271 HAWTHORNE STREET</td>\n",
       "    </tr>\n",
       "  </tbody>\n",
       "</table>\n",
       "</div>"
      ],
      "text/plain": [
       "  complaint_type                          address\n",
       "0             NO  97-05 HORACE HARDING EXPRESSWAY\n",
       "1             NO             110 ROCHESTER AVENUE\n",
       "2            YES             271 HAWTHORNE STREET\n",
       "3             NO              2714 WALLACE AVENUE\n",
       "4            YES             271 HAWTHORNE STREET"
      ]
     },
     "execution_count": 52,
     "metadata": {},
     "output_type": "execute_result"
    }
   ],
   "source": [
    "df_311nyc_model_2.rename(columns={\"incident_address\":\"address\"},inplace=True)\n",
    "df_311nyc_model_2.head()"
   ]
  },
  {
   "cell_type": "code",
   "execution_count": 53,
   "metadata": {},
   "outputs": [],
   "source": [
    "#Step 7 - Merging the 2 dataframes using inner join"
   ]
  },
  {
   "cell_type": "code",
   "execution_count": 54,
   "metadata": {},
   "outputs": [
    {
     "data": {
      "text/html": [
       "<div>\n",
       "<style scoped>\n",
       "    .dataframe tbody tr th:only-of-type {\n",
       "        vertical-align: middle;\n",
       "    }\n",
       "\n",
       "    .dataframe tbody tr th {\n",
       "        vertical-align: top;\n",
       "    }\n",
       "\n",
       "    .dataframe thead th {\n",
       "        text-align: right;\n",
       "    }\n",
       "</style>\n",
       "<table border=\"1\" class=\"dataframe\">\n",
       "  <thead>\n",
       "    <tr style=\"text-align: right;\">\n",
       "      <th></th>\n",
       "      <th>complaint_type</th>\n",
       "      <th>address</th>\n",
       "      <th>bldgarea</th>\n",
       "      <th>resarea</th>\n",
       "      <th>numfloors</th>\n",
       "      <th>bldgdepth</th>\n",
       "    </tr>\n",
       "  </thead>\n",
       "  <tbody>\n",
       "    <tr>\n",
       "      <th>0</th>\n",
       "      <td>NO</td>\n",
       "      <td>110 ROCHESTER AVENUE</td>\n",
       "      <td>137370.0</td>\n",
       "      <td>137370.0</td>\n",
       "      <td>6.0</td>\n",
       "      <td>100.0</td>\n",
       "    </tr>\n",
       "    <tr>\n",
       "      <th>1</th>\n",
       "      <td>NO</td>\n",
       "      <td>110 ROCHESTER AVENUE</td>\n",
       "      <td>137370.0</td>\n",
       "      <td>137370.0</td>\n",
       "      <td>6.0</td>\n",
       "      <td>100.0</td>\n",
       "    </tr>\n",
       "    <tr>\n",
       "      <th>2</th>\n",
       "      <td>YES</td>\n",
       "      <td>110 ROCHESTER AVENUE</td>\n",
       "      <td>137370.0</td>\n",
       "      <td>137370.0</td>\n",
       "      <td>6.0</td>\n",
       "      <td>100.0</td>\n",
       "    </tr>\n",
       "    <tr>\n",
       "      <th>3</th>\n",
       "      <td>YES</td>\n",
       "      <td>110 ROCHESTER AVENUE</td>\n",
       "      <td>137370.0</td>\n",
       "      <td>137370.0</td>\n",
       "      <td>6.0</td>\n",
       "      <td>100.0</td>\n",
       "    </tr>\n",
       "    <tr>\n",
       "      <th>4</th>\n",
       "      <td>YES</td>\n",
       "      <td>110 ROCHESTER AVENUE</td>\n",
       "      <td>137370.0</td>\n",
       "      <td>137370.0</td>\n",
       "      <td>6.0</td>\n",
       "      <td>100.0</td>\n",
       "    </tr>\n",
       "    <tr>\n",
       "      <th>5</th>\n",
       "      <td>YES</td>\n",
       "      <td>110 ROCHESTER AVENUE</td>\n",
       "      <td>137370.0</td>\n",
       "      <td>137370.0</td>\n",
       "      <td>6.0</td>\n",
       "      <td>100.0</td>\n",
       "    </tr>\n",
       "    <tr>\n",
       "      <th>6</th>\n",
       "      <td>YES</td>\n",
       "      <td>110 ROCHESTER AVENUE</td>\n",
       "      <td>137370.0</td>\n",
       "      <td>137370.0</td>\n",
       "      <td>6.0</td>\n",
       "      <td>100.0</td>\n",
       "    </tr>\n",
       "    <tr>\n",
       "      <th>7</th>\n",
       "      <td>YES</td>\n",
       "      <td>110 ROCHESTER AVENUE</td>\n",
       "      <td>137370.0</td>\n",
       "      <td>137370.0</td>\n",
       "      <td>6.0</td>\n",
       "      <td>100.0</td>\n",
       "    </tr>\n",
       "    <tr>\n",
       "      <th>8</th>\n",
       "      <td>NO</td>\n",
       "      <td>110 ROCHESTER AVENUE</td>\n",
       "      <td>137370.0</td>\n",
       "      <td>137370.0</td>\n",
       "      <td>6.0</td>\n",
       "      <td>100.0</td>\n",
       "    </tr>\n",
       "    <tr>\n",
       "      <th>9</th>\n",
       "      <td>NO</td>\n",
       "      <td>110 ROCHESTER AVENUE</td>\n",
       "      <td>137370.0</td>\n",
       "      <td>137370.0</td>\n",
       "      <td>6.0</td>\n",
       "      <td>100.0</td>\n",
       "    </tr>\n",
       "    <tr>\n",
       "      <th>10</th>\n",
       "      <td>NO</td>\n",
       "      <td>110 ROCHESTER AVENUE</td>\n",
       "      <td>137370.0</td>\n",
       "      <td>137370.0</td>\n",
       "      <td>6.0</td>\n",
       "      <td>100.0</td>\n",
       "    </tr>\n",
       "    <tr>\n",
       "      <th>11</th>\n",
       "      <td>YES</td>\n",
       "      <td>110 ROCHESTER AVENUE</td>\n",
       "      <td>137370.0</td>\n",
       "      <td>137370.0</td>\n",
       "      <td>6.0</td>\n",
       "      <td>100.0</td>\n",
       "    </tr>\n",
       "    <tr>\n",
       "      <th>12</th>\n",
       "      <td>NO</td>\n",
       "      <td>110 ROCHESTER AVENUE</td>\n",
       "      <td>137370.0</td>\n",
       "      <td>137370.0</td>\n",
       "      <td>6.0</td>\n",
       "      <td>100.0</td>\n",
       "    </tr>\n",
       "    <tr>\n",
       "      <th>13</th>\n",
       "      <td>NO</td>\n",
       "      <td>110 ROCHESTER AVENUE</td>\n",
       "      <td>137370.0</td>\n",
       "      <td>137370.0</td>\n",
       "      <td>6.0</td>\n",
       "      <td>100.0</td>\n",
       "    </tr>\n",
       "    <tr>\n",
       "      <th>14</th>\n",
       "      <td>YES</td>\n",
       "      <td>110 ROCHESTER AVENUE</td>\n",
       "      <td>137370.0</td>\n",
       "      <td>137370.0</td>\n",
       "      <td>6.0</td>\n",
       "      <td>100.0</td>\n",
       "    </tr>\n",
       "    <tr>\n",
       "      <th>15</th>\n",
       "      <td>YES</td>\n",
       "      <td>110 ROCHESTER AVENUE</td>\n",
       "      <td>137370.0</td>\n",
       "      <td>137370.0</td>\n",
       "      <td>6.0</td>\n",
       "      <td>100.0</td>\n",
       "    </tr>\n",
       "    <tr>\n",
       "      <th>16</th>\n",
       "      <td>YES</td>\n",
       "      <td>110 ROCHESTER AVENUE</td>\n",
       "      <td>137370.0</td>\n",
       "      <td>137370.0</td>\n",
       "      <td>6.0</td>\n",
       "      <td>100.0</td>\n",
       "    </tr>\n",
       "    <tr>\n",
       "      <th>17</th>\n",
       "      <td>NO</td>\n",
       "      <td>110 ROCHESTER AVENUE</td>\n",
       "      <td>137370.0</td>\n",
       "      <td>137370.0</td>\n",
       "      <td>6.0</td>\n",
       "      <td>100.0</td>\n",
       "    </tr>\n",
       "    <tr>\n",
       "      <th>18</th>\n",
       "      <td>NO</td>\n",
       "      <td>110 ROCHESTER AVENUE</td>\n",
       "      <td>137370.0</td>\n",
       "      <td>137370.0</td>\n",
       "      <td>6.0</td>\n",
       "      <td>100.0</td>\n",
       "    </tr>\n",
       "    <tr>\n",
       "      <th>19</th>\n",
       "      <td>NO</td>\n",
       "      <td>110 ROCHESTER AVENUE</td>\n",
       "      <td>137370.0</td>\n",
       "      <td>137370.0</td>\n",
       "      <td>6.0</td>\n",
       "      <td>100.0</td>\n",
       "    </tr>\n",
       "  </tbody>\n",
       "</table>\n",
       "</div>"
      ],
      "text/plain": [
       "   complaint_type               address  bldgarea   resarea  numfloors  \\\n",
       "0              NO  110 ROCHESTER AVENUE  137370.0  137370.0        6.0   \n",
       "1              NO  110 ROCHESTER AVENUE  137370.0  137370.0        6.0   \n",
       "2             YES  110 ROCHESTER AVENUE  137370.0  137370.0        6.0   \n",
       "3             YES  110 ROCHESTER AVENUE  137370.0  137370.0        6.0   \n",
       "4             YES  110 ROCHESTER AVENUE  137370.0  137370.0        6.0   \n",
       "5             YES  110 ROCHESTER AVENUE  137370.0  137370.0        6.0   \n",
       "6             YES  110 ROCHESTER AVENUE  137370.0  137370.0        6.0   \n",
       "7             YES  110 ROCHESTER AVENUE  137370.0  137370.0        6.0   \n",
       "8              NO  110 ROCHESTER AVENUE  137370.0  137370.0        6.0   \n",
       "9              NO  110 ROCHESTER AVENUE  137370.0  137370.0        6.0   \n",
       "10             NO  110 ROCHESTER AVENUE  137370.0  137370.0        6.0   \n",
       "11            YES  110 ROCHESTER AVENUE  137370.0  137370.0        6.0   \n",
       "12             NO  110 ROCHESTER AVENUE  137370.0  137370.0        6.0   \n",
       "13             NO  110 ROCHESTER AVENUE  137370.0  137370.0        6.0   \n",
       "14            YES  110 ROCHESTER AVENUE  137370.0  137370.0        6.0   \n",
       "15            YES  110 ROCHESTER AVENUE  137370.0  137370.0        6.0   \n",
       "16            YES  110 ROCHESTER AVENUE  137370.0  137370.0        6.0   \n",
       "17             NO  110 ROCHESTER AVENUE  137370.0  137370.0        6.0   \n",
       "18             NO  110 ROCHESTER AVENUE  137370.0  137370.0        6.0   \n",
       "19             NO  110 ROCHESTER AVENUE  137370.0  137370.0        6.0   \n",
       "\n",
       "    bldgdepth  \n",
       "0       100.0  \n",
       "1       100.0  \n",
       "2       100.0  \n",
       "3       100.0  \n",
       "4       100.0  \n",
       "5       100.0  \n",
       "6       100.0  \n",
       "7       100.0  \n",
       "8       100.0  \n",
       "9       100.0  \n",
       "10      100.0  \n",
       "11      100.0  \n",
       "12      100.0  \n",
       "13      100.0  \n",
       "14      100.0  \n",
       "15      100.0  \n",
       "16      100.0  \n",
       "17      100.0  \n",
       "18      100.0  \n",
       "19      100.0  "
      ]
     },
     "execution_count": 54,
     "metadata": {},
     "output_type": "execute_result"
    }
   ],
   "source": [
    "df_model_2 = pd.merge(df_311nyc_model_2, df_pluto, on='address', how='inner')\n",
    "df_model_2.head(20)"
   ]
  },
  {
   "cell_type": "code",
   "execution_count": 55,
   "metadata": {},
   "outputs": [
    {
     "data": {
      "text/html": [
       "<div>\n",
       "<style scoped>\n",
       "    .dataframe tbody tr th:only-of-type {\n",
       "        vertical-align: middle;\n",
       "    }\n",
       "\n",
       "    .dataframe tbody tr th {\n",
       "        vertical-align: top;\n",
       "    }\n",
       "\n",
       "    .dataframe thead th {\n",
       "        text-align: right;\n",
       "    }\n",
       "</style>\n",
       "<table border=\"1\" class=\"dataframe\">\n",
       "  <thead>\n",
       "    <tr style=\"text-align: right;\">\n",
       "      <th></th>\n",
       "      <th>complaint_type</th>\n",
       "      <th>address</th>\n",
       "      <th>bldgarea</th>\n",
       "      <th>resarea</th>\n",
       "      <th>numfloors</th>\n",
       "      <th>bldgdepth</th>\n",
       "    </tr>\n",
       "  </thead>\n",
       "  <tbody>\n",
       "    <tr>\n",
       "      <th>4641584</th>\n",
       "      <td>NO</td>\n",
       "      <td>2373 WASHINGTON AVENUE</td>\n",
       "      <td>10800.0</td>\n",
       "      <td>0.0</td>\n",
       "      <td>2.00</td>\n",
       "      <td>141.00</td>\n",
       "    </tr>\n",
       "    <tr>\n",
       "      <th>4641585</th>\n",
       "      <td>YES</td>\n",
       "      <td>149-39 123 STREET</td>\n",
       "      <td>1910.0</td>\n",
       "      <td>1910.0</td>\n",
       "      <td>2.00</td>\n",
       "      <td>48.50</td>\n",
       "    </tr>\n",
       "    <tr>\n",
       "      <th>4641586</th>\n",
       "      <td>YES</td>\n",
       "      <td>41-50 CASE STREET</td>\n",
       "      <td>3160.0</td>\n",
       "      <td>3160.0</td>\n",
       "      <td>3.00</td>\n",
       "      <td>56.00</td>\n",
       "    </tr>\n",
       "    <tr>\n",
       "      <th>4641587</th>\n",
       "      <td>NO</td>\n",
       "      <td>1833 TRAFALGAR PLACE</td>\n",
       "      <td>3106.0</td>\n",
       "      <td>3106.0</td>\n",
       "      <td>3.00</td>\n",
       "      <td>47.54</td>\n",
       "    </tr>\n",
       "    <tr>\n",
       "      <th>4641588</th>\n",
       "      <td>NO</td>\n",
       "      <td>1833 TRAFALGAR PLACE</td>\n",
       "      <td>3106.0</td>\n",
       "      <td>3106.0</td>\n",
       "      <td>3.00</td>\n",
       "      <td>47.54</td>\n",
       "    </tr>\n",
       "    <tr>\n",
       "      <th>4641589</th>\n",
       "      <td>NO</td>\n",
       "      <td>54-09 94 STREET</td>\n",
       "      <td>1204.0</td>\n",
       "      <td>1204.0</td>\n",
       "      <td>2.50</td>\n",
       "      <td>36.00</td>\n",
       "    </tr>\n",
       "    <tr>\n",
       "      <th>4641590</th>\n",
       "      <td>NO</td>\n",
       "      <td>93-03 49 AVENUE</td>\n",
       "      <td>2805.0</td>\n",
       "      <td>2805.0</td>\n",
       "      <td>2.75</td>\n",
       "      <td>46.00</td>\n",
       "    </tr>\n",
       "    <tr>\n",
       "      <th>4641591</th>\n",
       "      <td>NO</td>\n",
       "      <td>71-32 66 PLACE</td>\n",
       "      <td>3107.0</td>\n",
       "      <td>2260.0</td>\n",
       "      <td>2.00</td>\n",
       "      <td>55.00</td>\n",
       "    </tr>\n",
       "    <tr>\n",
       "      <th>4641592</th>\n",
       "      <td>NO</td>\n",
       "      <td>71-32 66 PLACE</td>\n",
       "      <td>3107.0</td>\n",
       "      <td>2260.0</td>\n",
       "      <td>2.00</td>\n",
       "      <td>55.00</td>\n",
       "    </tr>\n",
       "    <tr>\n",
       "      <th>4641593</th>\n",
       "      <td>NO</td>\n",
       "      <td>71-32 66 PLACE</td>\n",
       "      <td>3107.0</td>\n",
       "      <td>2260.0</td>\n",
       "      <td>2.00</td>\n",
       "      <td>55.00</td>\n",
       "    </tr>\n",
       "    <tr>\n",
       "      <th>4641594</th>\n",
       "      <td>NO</td>\n",
       "      <td>71-32 66 PLACE</td>\n",
       "      <td>3107.0</td>\n",
       "      <td>2260.0</td>\n",
       "      <td>2.00</td>\n",
       "      <td>55.00</td>\n",
       "    </tr>\n",
       "    <tr>\n",
       "      <th>4641595</th>\n",
       "      <td>NO</td>\n",
       "      <td>1118 38 STREET</td>\n",
       "      <td>2172.0</td>\n",
       "      <td>2172.0</td>\n",
       "      <td>3.00</td>\n",
       "      <td>35.00</td>\n",
       "    </tr>\n",
       "    <tr>\n",
       "      <th>4641596</th>\n",
       "      <td>NO</td>\n",
       "      <td>1562 UNION STREET</td>\n",
       "      <td>3540.0</td>\n",
       "      <td>2360.0</td>\n",
       "      <td>2.00</td>\n",
       "      <td>55.00</td>\n",
       "    </tr>\n",
       "    <tr>\n",
       "      <th>4641597</th>\n",
       "      <td>NO</td>\n",
       "      <td>45-02 QUEENS BOULEVARD</td>\n",
       "      <td>11000.0</td>\n",
       "      <td>0.0</td>\n",
       "      <td>1.00</td>\n",
       "      <td>100.00</td>\n",
       "    </tr>\n",
       "    <tr>\n",
       "      <th>4641598</th>\n",
       "      <td>NO</td>\n",
       "      <td>133-61 243 STREET</td>\n",
       "      <td>1138.0</td>\n",
       "      <td>1138.0</td>\n",
       "      <td>1.50</td>\n",
       "      <td>40.00</td>\n",
       "    </tr>\n",
       "    <tr>\n",
       "      <th>4641599</th>\n",
       "      <td>YES</td>\n",
       "      <td>988 OGDEN AVENUE</td>\n",
       "      <td>3474.0</td>\n",
       "      <td>3474.0</td>\n",
       "      <td>3.00</td>\n",
       "      <td>48.00</td>\n",
       "    </tr>\n",
       "    <tr>\n",
       "      <th>4641600</th>\n",
       "      <td>YES</td>\n",
       "      <td>2424 WEST STREET</td>\n",
       "      <td>1984.0</td>\n",
       "      <td>1984.0</td>\n",
       "      <td>2.00</td>\n",
       "      <td>62.00</td>\n",
       "    </tr>\n",
       "    <tr>\n",
       "      <th>4641601</th>\n",
       "      <td>NO</td>\n",
       "      <td>288 PELTON AVENUE</td>\n",
       "      <td>3400.0</td>\n",
       "      <td>3400.0</td>\n",
       "      <td>2.50</td>\n",
       "      <td>53.00</td>\n",
       "    </tr>\n",
       "    <tr>\n",
       "      <th>4641602</th>\n",
       "      <td>NO</td>\n",
       "      <td>1447 5 AVENUE</td>\n",
       "      <td>3600.0</td>\n",
       "      <td>3600.0</td>\n",
       "      <td>4.00</td>\n",
       "      <td>45.00</td>\n",
       "    </tr>\n",
       "    <tr>\n",
       "      <th>4641603</th>\n",
       "      <td>YES</td>\n",
       "      <td>72 DIAMOND STREET</td>\n",
       "      <td>5100.0</td>\n",
       "      <td>2600.0</td>\n",
       "      <td>3.00</td>\n",
       "      <td>100.00</td>\n",
       "    </tr>\n",
       "  </tbody>\n",
       "</table>\n",
       "</div>"
      ],
      "text/plain": [
       "        complaint_type                 address  bldgarea  resarea  numfloors  \\\n",
       "4641584             NO  2373 WASHINGTON AVENUE   10800.0      0.0       2.00   \n",
       "4641585            YES       149-39 123 STREET    1910.0   1910.0       2.00   \n",
       "4641586            YES       41-50 CASE STREET    3160.0   3160.0       3.00   \n",
       "4641587             NO    1833 TRAFALGAR PLACE    3106.0   3106.0       3.00   \n",
       "4641588             NO    1833 TRAFALGAR PLACE    3106.0   3106.0       3.00   \n",
       "4641589             NO         54-09 94 STREET    1204.0   1204.0       2.50   \n",
       "4641590             NO         93-03 49 AVENUE    2805.0   2805.0       2.75   \n",
       "4641591             NO          71-32 66 PLACE    3107.0   2260.0       2.00   \n",
       "4641592             NO          71-32 66 PLACE    3107.0   2260.0       2.00   \n",
       "4641593             NO          71-32 66 PLACE    3107.0   2260.0       2.00   \n",
       "4641594             NO          71-32 66 PLACE    3107.0   2260.0       2.00   \n",
       "4641595             NO          1118 38 STREET    2172.0   2172.0       3.00   \n",
       "4641596             NO       1562 UNION STREET    3540.0   2360.0       2.00   \n",
       "4641597             NO  45-02 QUEENS BOULEVARD   11000.0      0.0       1.00   \n",
       "4641598             NO       133-61 243 STREET    1138.0   1138.0       1.50   \n",
       "4641599            YES        988 OGDEN AVENUE    3474.0   3474.0       3.00   \n",
       "4641600            YES        2424 WEST STREET    1984.0   1984.0       2.00   \n",
       "4641601             NO       288 PELTON AVENUE    3400.0   3400.0       2.50   \n",
       "4641602             NO           1447 5 AVENUE    3600.0   3600.0       4.00   \n",
       "4641603            YES       72 DIAMOND STREET    5100.0   2600.0       3.00   \n",
       "\n",
       "         bldgdepth  \n",
       "4641584     141.00  \n",
       "4641585      48.50  \n",
       "4641586      56.00  \n",
       "4641587      47.54  \n",
       "4641588      47.54  \n",
       "4641589      36.00  \n",
       "4641590      46.00  \n",
       "4641591      55.00  \n",
       "4641592      55.00  \n",
       "4641593      55.00  \n",
       "4641594      55.00  \n",
       "4641595      35.00  \n",
       "4641596      55.00  \n",
       "4641597     100.00  \n",
       "4641598      40.00  \n",
       "4641599      48.00  \n",
       "4641600      62.00  \n",
       "4641601      53.00  \n",
       "4641602      45.00  \n",
       "4641603     100.00  "
      ]
     },
     "execution_count": 55,
     "metadata": {},
     "output_type": "execute_result"
    }
   ],
   "source": [
    "df_model_2.tail(20)"
   ]
  },
  {
   "cell_type": "code",
   "execution_count": 56,
   "metadata": {},
   "outputs": [],
   "source": [
    "#Step 8 - Dropping null values"
   ]
  },
  {
   "cell_type": "code",
   "execution_count": 57,
   "metadata": {},
   "outputs": [],
   "source": [
    "df_model_2.dropna(how=\"any\",inplace=True)"
   ]
  },
  {
   "cell_type": "code",
   "execution_count": 58,
   "metadata": {},
   "outputs": [],
   "source": [
    "#Step 9 - Creating set of predictor x and target y variable"
   ]
  },
  {
   "cell_type": "code",
   "execution_count": 59,
   "metadata": {},
   "outputs": [],
   "source": [
    "x = df_model_2[['resarea','bldgarea','bldgdepth','numfloors']].values\n",
    "y = df_model_2[[\"complaint_type\"]].values"
   ]
  },
  {
   "cell_type": "code",
   "execution_count": 60,
   "metadata": {},
   "outputs": [],
   "source": [
    "# Step 10 - Creating training and testing dataset"
   ]
  },
  {
   "cell_type": "code",
   "execution_count": 61,
   "metadata": {},
   "outputs": [],
   "source": [
    "from sklearn.model_selection import train_test_split\n",
    "train_X, test_X, train_Y, test_Y = train_test_split(x,y,test_size=0.3,random_state=4)"
   ]
  },
  {
   "cell_type": "code",
   "execution_count": 62,
   "metadata": {},
   "outputs": [],
   "source": [
    "#Step 11 - Defining the Decision Tree Classifier"
   ]
  },
  {
   "cell_type": "code",
   "execution_count": 63,
   "metadata": {},
   "outputs": [
    {
     "name": "stdout",
     "output_type": "stream",
     "text": [
      "DecisionTreeClassifier(class_weight=None, criterion='entropy', max_depth=4,\n",
      "            max_features=None, max_leaf_nodes=None,\n",
      "            min_impurity_decrease=0.0, min_impurity_split=None,\n",
      "            min_samples_leaf=1, min_samples_split=2,\n",
      "            min_weight_fraction_leaf=0.0, presort=False, random_state=None,\n",
      "            splitter='best')\n"
     ]
    }
   ],
   "source": [
    "from sklearn.tree import DecisionTreeClassifier\n",
    "complaintTree = DecisionTreeClassifier(criterion=\"entropy\", max_depth = 4)\n",
    "print(complaintTree)"
   ]
  },
  {
   "cell_type": "code",
   "execution_count": 64,
   "metadata": {},
   "outputs": [],
   "source": [
    "#Step 12 - Training the model using training data"
   ]
  },
  {
   "cell_type": "code",
   "execution_count": 65,
   "metadata": {},
   "outputs": [
    {
     "data": {
      "text/plain": [
       "DecisionTreeClassifier(class_weight=None, criterion='entropy', max_depth=4,\n",
       "            max_features=None, max_leaf_nodes=None,\n",
       "            min_impurity_decrease=0.0, min_impurity_split=None,\n",
       "            min_samples_leaf=1, min_samples_split=2,\n",
       "            min_weight_fraction_leaf=0.0, presort=False, random_state=None,\n",
       "            splitter='best')"
      ]
     },
     "execution_count": 65,
     "metadata": {},
     "output_type": "execute_result"
    }
   ],
   "source": [
    "complaintTree.fit(train_X,train_Y)"
   ]
  },
  {
   "cell_type": "code",
   "execution_count": 66,
   "metadata": {},
   "outputs": [],
   "source": [
    "#Step 13 - Testing the model using testing data"
   ]
  },
  {
   "cell_type": "code",
   "execution_count": 67,
   "metadata": {},
   "outputs": [],
   "source": [
    "predicted_Y = complaintTree.predict(test_X)"
   ]
  },
  {
   "cell_type": "code",
   "execution_count": 68,
   "metadata": {},
   "outputs": [],
   "source": [
    "#Step 14 - Measuring accuracy of the classifier"
   ]
  },
  {
   "cell_type": "code",
   "execution_count": 69,
   "metadata": {},
   "outputs": [
    {
     "data": {
      "text/plain": [
       "0.654094960717531"
      ]
     },
     "execution_count": 69,
     "metadata": {},
     "output_type": "execute_result"
    }
   ],
   "source": [
    "from sklearn import metrics\n",
    "metrics.accuracy_score(test_Y, predicted_Y)"
   ]
  },
  {
   "cell_type": "code",
   "execution_count": 70,
   "metadata": {},
   "outputs": [],
   "source": [
    "#Step 15 - Predicting probability if there will be any heat/hot water complaints for a house with the following characteristics for resarea, bldgarea, bldgdepth, numfloors using our model"
   ]
  },
  {
   "cell_type": "code",
   "execution_count": 71,
   "metadata": {},
   "outputs": [
    {
     "data": {
      "text/plain": [
       "array(['NO'], dtype=object)"
      ]
     },
     "execution_count": 71,
     "metadata": {},
     "output_type": "execute_result"
    }
   ],
   "source": [
    "predictY = complaintTree.predict([[\"0.0\",\"10800\",\"141\",\"2\"]])\n",
    "predictY"
   ]
  },
  {
   "cell_type": "code",
   "execution_count": 72,
   "metadata": {},
   "outputs": [
    {
     "data": {
      "text/plain": [
       "'Conclusion: A predictive model can be created to estimate the probability/possibility of complaints of specific type (here top complaint) based on the relation between its occurrence due to different characteristics of a house.'"
      ]
     },
     "execution_count": 72,
     "metadata": {},
     "output_type": "execute_result"
    }
   ],
   "source": [
    "\"\"\"Conclusion: A predictive model can be created to estimate the probability/possibility of complaints of specific type (here top complaint) based on the relation between its occurrence due to different characteristics of a house.\"\"\""
   ]
  }
 ],
 "metadata": {
  "kernelspec": {
   "display_name": "Python 3.6",
   "language": "python",
   "name": "python3"
  },
  "language_info": {
   "codemirror_mode": {
    "name": "ipython",
    "version": 3
   },
   "file_extension": ".py",
   "mimetype": "text/x-python",
   "name": "python",
   "nbconvert_exporter": "python",
   "pygments_lexer": "ipython3",
   "version": "3.6.8"
  }
 },
 "nbformat": 4,
 "nbformat_minor": 1
}
